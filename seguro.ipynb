{
 "cells": [
  {
   "cell_type": "code",
   "execution_count": 3,
   "metadata": {},
   "outputs": [
    {
     "ename": "ModuleNotFoundError",
     "evalue": "No module named 'pandas'",
     "output_type": "error",
     "traceback": [
      "\u001b[1;31m---------------------------------------------------------------------------\u001b[0m",
      "\u001b[1;31mModuleNotFoundError\u001b[0m                       Traceback (most recent call last)",
      "Input \u001b[1;32mIn [3]\u001b[0m, in \u001b[0;36m<module>\u001b[1;34m\u001b[0m\n\u001b[0;32m      1\u001b[0m \u001b[38;5;66;03m#import numpy as np\u001b[39;00m\n\u001b[1;32m----> 2\u001b[0m \u001b[38;5;28;01mimport\u001b[39;00m \u001b[38;5;21;01mpandas\u001b[39;00m \u001b[38;5;28;01mas\u001b[39;00m \u001b[38;5;21;01mpd\u001b[39;00m\n\u001b[0;32m      3\u001b[0m \u001b[38;5;28;01mimport\u001b[39;00m \u001b[38;5;21;01mmatplotlib\u001b[39;00m\u001b[38;5;21;01m.\u001b[39;00m\u001b[38;5;21;01mpyplot\u001b[39;00m \u001b[38;5;28;01mas\u001b[39;00m \u001b[38;5;21;01mplt\u001b[39;00m\n\u001b[0;32m      4\u001b[0m \u001b[38;5;28;01mimport\u001b[39;00m \u001b[38;5;21;01mseaborn\u001b[39;00m \u001b[38;5;28;01mas\u001b[39;00m \u001b[38;5;21;01msns\u001b[39;00m\n",
      "\u001b[1;31mModuleNotFoundError\u001b[0m: No module named 'pandas'"
     ]
    }
   ],
   "source": [
    "import numpy as np\n",
    "import pandas as pd\n",
    "import matplotlib.pyplot as plt\n",
    "import seaborn as sns"
   ]
  },
  {
   "cell_type": "code",
   "execution_count": null,
   "metadata": {},
   "outputs": [],
   "source": [
    "cols = ['patient_id', 'created_at', 'process_types.name', 'source.1', 'Operação',\n",
    "       'date', 'status.Status.Name', 'zipCode', 'district',\n",
    "       'Prémio comercial A', 'Seguradora', 'Seguro',\n",
    "       'Prémio comercial B', 'Seguradora.B', 'Seguro.B',\n",
    "       'Prémio comercial C', 'Seguradoras.C', 'Seguros.C',\n",
    "       'dateOfBirth', 'date.analise', 'date.especialista', 'Date.neg']\n",
    "\n",
    "seg_upd = pd.read_excel('/content/drive/MyDrive/Projects/Project Dr Finanças/SEG/WCS_Data_SEG24DEC21.xlsx', usecols = cols)"
   ]
  },
  {
   "cell_type": "code",
   "execution_count": null,
   "metadata": {},
   "outputs": [],
   "source": [
    "seg_upd.head()"
   ]
  },
  {
   "cell_type": "code",
   "execution_count": null,
   "metadata": {},
   "outputs": [],
   "source": [
    "seg_upd.info()"
   ]
  },
  {
   "cell_type": "code",
   "execution_count": null,
   "metadata": {},
   "outputs": [],
   "source": [
    "seg_upd['process_types.name'].value_counts()"
   ]
  },
  {
   "cell_type": "code",
   "execution_count": null,
   "metadata": {},
   "outputs": [],
   "source": [
    "seg_upd.describe()"
   ]
  },
  {
   "cell_type": "code",
   "execution_count": null,
   "metadata": {},
   "outputs": [],
   "source": [
    "seg_upd['patient_id'].value_counts()"
   ]
  },
  {
   "cell_type": "code",
   "execution_count": null,
   "metadata": {},
   "outputs": [],
   "source": [
    "print(seg_upd['Operação'].value_counts(dropna = False), '\\n')\n",
    "\n",
    "seg_upd['status.Status.Name'].value_counts(dropna = False)"
   ]
  },
  {
   "cell_type": "markdown",
   "metadata": {},
   "source": [
    "2 - Get \"patient_id\" with only \"status.Status.Name = Concluído : Com Success\""
   ]
  },
  {
   "cell_type": "code",
   "execution_count": null,
   "metadata": {},
   "outputs": [],
   "source": [
    "seg_up_sucess = seg_upd[seg_upd['status.Status.Name'] == 'Concluído : Com Sucesso']\n",
    "seg_up_sucess"
   ]
  },
  {
   "cell_type": "code",
   "execution_count": null,
   "metadata": {},
   "outputs": [],
   "source": [
    "seg_up_sucess.info()"
   ]
  },
  {
   "cell_type": "code",
   "execution_count": null,
   "metadata": {},
   "outputs": [],
   "source": [
    "seg_up_sucess['patient_id'].value_counts()"
   ]
  },
  {
   "cell_type": "code",
   "execution_count": null,
   "metadata": {},
   "outputs": [],
   "source": [
    "seg_up_sucess.isna().sum()"
   ]
  },
  {
   "cell_type": "markdown",
   "metadata": {},
   "source": [
    "2.1 - Confirm if there is values on Prémio Comercial A, B or C\n",
    "that can mess with the mean all other values after the concat"
   ]
  },
  {
   "cell_type": "code",
   "execution_count": null,
   "metadata": {},
   "outputs": [],
   "source": [
    "seg_up_NOT_sucess = seg_upd[seg_upd['status.Status.Name'] != 'Concluído : Com Sucesso']\n",
    "seg_up_NOT_sucess"
   ]
  },
  {
   "cell_type": "code",
   "execution_count": null,
   "metadata": {},
   "outputs": [],
   "source": [
    "seg_up_NOT_sucess.describe()"
   ]
  },
  {
   "cell_type": "markdown",
   "metadata": {},
   "source": [
    "3 - Concatenation\n",
    "- Creation of 3 Tables with different \"Prémio comercial A, B and C\" with respective \"Seguro\";\n",
    "- Concat them all;\n",
    "- Get average of insurance by patient_id and by Type of Insurance"
   ]
  },
  {
   "cell_type": "markdown",
   "metadata": {},
   "source": [
    "Get info from the 3 tables"
   ]
  },
  {
   "cell_type": "markdown",
   "metadata": {},
   "source": [
    "Get info for 'Prémio comercial A'"
   ]
  },
  {
   "cell_type": "code",
   "execution_count": null,
   "metadata": {},
   "outputs": [],
   "source": [
    "seg_up_sucess.columns"
   ]
  },
  {
   "cell_type": "code",
   "execution_count": null,
   "metadata": {},
   "outputs": [],
   "source": [
    "seg_up_sucess_A = seg_up_sucess.loc[:, [\"patient_id\", \"Prémio comercial A\", \"Seguro\"]]\n",
    "seg_up_sucess_A.rename(columns = {'patient_id':'Patient_ID',\n",
    "                                  'Prémio comercial A':'Premium Insurance',\n",
    "                                  'Seguro':'Type of Insurance'}, inplace = True)\n",
    "seg_up_sucess_A"
   ]
  },
  {
   "cell_type": "code",
   "execution_count": null,
   "metadata": {},
   "outputs": [],
   "source": [
    "### remove NaN from 'Premium Insurance' ###\n",
    "\n",
    "seg_up_sucess_A.dropna(subset = ['Premium Insurance'],  inplace = True)\n",
    "seg_up_sucess_A"
   ]
  },
  {
   "cell_type": "code",
   "execution_count": null,
   "metadata": {},
   "outputs": [],
   "source": [
    "seg_up_sucess_A['Patient_ID'].value_counts()"
   ]
  },
  {
   "cell_type": "code",
   "execution_count": null,
   "metadata": {},
   "outputs": [],
   "source": [
    "seg_up_sucess_A_2 = seg_up_sucess_A.groupby(['Type of Insurance']).agg({'Patient_ID':'count',\n",
    "                                                                        'Premium Insurance': 'sum'})\n",
    "seg_up_sucess_A_2"
   ]
  },
  {
   "cell_type": "markdown",
   "metadata": {},
   "source": [
    "Get info for 'Prémio comercial B'"
   ]
  },
  {
   "cell_type": "code",
   "execution_count": null,
   "metadata": {},
   "outputs": [],
   "source": [
    "### data with only 'Concluído : Com Sucesso' and all NaN's ###\n",
    "### row size 3806 ###\n",
    "### getting 'Prémio comercial B' and others only.\n",
    "\n",
    "# seg_up_sucess.head()\n",
    "\n",
    "seg_up_sucess_B = seg_up_sucess.loc[:, [\"patient_id\", \"Prémio comercial B\", \"Seguro.B\"]]\n",
    "seg_up_sucess_B.rename(columns = {'patient_id':'Patient_ID',\n",
    "                                  'Prémio comercial B':'Premium Insurance',\n",
    "                                  'Seguro.B':'Type of Insurance'}, inplace = True)\n",
    "seg_up_sucess_B\n",
    "\n",
    "### remove NaN from 'Premium Insurance' ###\n",
    "\n",
    "seg_up_sucess_B.dropna(subset = ['Premium Insurance'],  inplace = True)\n",
    "seg_up_sucess_B"
   ]
  },
  {
   "cell_type": "code",
   "execution_count": null,
   "metadata": {},
   "outputs": [],
   "source": [
    "seg_up_sucess_B.value_counts()"
   ]
  },
  {
   "cell_type": "markdown",
   "metadata": {},
   "source": [
    "Get info for 'Prémio comercial C'"
   ]
  },
  {
   "cell_type": "code",
   "execution_count": null,
   "metadata": {},
   "outputs": [],
   "source": [
    "### data with only 'Concluído : Com Sucesso' and all NaN's ###\n",
    "### row size 3806 ###\n",
    "### getting 'Prémio comercial C' and others only.\n",
    "\n",
    "# seg_up_sucess.head()\n",
    "\n",
    "seg_up_sucess_C = seg_up_sucess.loc[:, [\"patient_id\", \"Prémio comercial C\", \"Seguros.C\"]]\n",
    "seg_up_sucess_C.rename(columns = {'patient_id':'Patient_ID',\n",
    "                                  'Prémio comercial C':'Premium Insurance',\n",
    "                                  'Seguros.C':'Type of Insurance'}, inplace = True)\n",
    "seg_up_sucess_C\n",
    "\n",
    "### remove NaN from 'Premium Insurance' ###\n",
    "\n",
    "seg_up_sucess_C.dropna(subset = ['Premium Insurance'],  inplace = True)\n",
    "seg_up_sucess_C"
   ]
  },
  {
   "cell_type": "code",
   "execution_count": null,
   "metadata": {},
   "outputs": [],
   "source": [
    "seg_up_sucess_C.value_counts()"
   ]
  },
  {
   "cell_type": "markdown",
   "metadata": {},
   "source": [
    "Concatenate"
   ]
  },
  {
   "cell_type": "code",
   "execution_count": null,
   "metadata": {},
   "outputs": [],
   "source": [
    "### concatenate all 3 tables and then will check for duplicates\n",
    "\n",
    "seg_up_sucess_total = pd.concat([seg_up_sucess_A, seg_up_sucess_B, seg_up_sucess_C])\n",
    "seg_up_sucess_total"
   ]
  },
  {
   "cell_type": "code",
   "execution_count": null,
   "metadata": {},
   "outputs": [],
   "source": [
    "seg_up_sucess_total['Premium Insurance'].mean()"
   ]
  },
  {
   "cell_type": "code",
   "execution_count": null,
   "metadata": {},
   "outputs": [],
   "source": [
    "seg_avg_pat = seg_up_sucess_total['Patient_ID'].value_counts().to_frame()\n",
    "seg_avg_pat"
   ]
  },
  {
   "cell_type": "markdown",
   "metadata": {},
   "source": [
    "Download table to get Avg Insurance by Patient"
   ]
  },
  {
   "cell_type": "code",
   "execution_count": null,
   "metadata": {},
   "outputs": [],
   "source": [
    "### DOWNLOAD the table above to get Avg Insurances by Patient ID ###\n",
    "\n",
    "# from openpyxl import load_workbook\n",
    "\n",
    "# seg_avg_pat.to_excel(r'/content/drive/MyDrive/Projects/Project Dr Finanças/SEG/Seguros_Avg_by_Patient_Final.xlsx', index = True)"
   ]
  },
  {
   "cell_type": "code",
   "execution_count": null,
   "metadata": {},
   "outputs": [],
   "source": [
    "########## Final table to answer Scope ##########\n",
    "\n",
    "### groupby().unique() -> 3639 patient_id\n",
    "\n",
    "seg_up_sucess_total_final = seg_up_sucess_total.groupby(['Type of Insurance'],\n",
    "                                                        as_index = False).agg({'Patient_ID':'nunique',\n",
    "                                                                               'Premium Insurance': 'sum'})\n",
    "print('Total of Patients: ',sum(seg_up_sucess_total_final['Patient_ID']),'\\n')\n",
    "print('Total Amount of Premium Insurance: ',round(sum(seg_up_sucess_total_final['Premium Insurance']), 2),'\\n')\n",
    "seg_up_sucess_total_final"
   ]
  },
  {
   "cell_type": "code",
   "execution_count": null,
   "metadata": {},
   "outputs": [],
   "source": [
    "#### create extra columns '% Pre_Ins\" #####\n",
    "\n",
    "seg_up_sucess_total_final['% Pre_Ins'] = seg_up_sucess_total_final['Premium Insurance']/sum(seg_up_sucess_total_final['Premium Insurance'])*100\n",
    "# seg_up_sucess_total_final\n",
    "\n",
    "#### create extra columns '% Patient_ID\" #####\n",
    "\n",
    "seg_up_sucess_total_final['% Patient_ID'] = seg_up_sucess_total_final['Patient_ID']/sum(seg_up_sucess_total_final['Patient_ID'])*100\n",
    "seg_up_sucess_total_final"
   ]
  },
  {
   "cell_type": "code",
   "execution_count": null,
   "metadata": {},
   "outputs": [],
   "source": [
    "### data visualization from this df seg_up_sucess_total_final ###\n",
    "\n",
    "seg_up_sucess_total_final.groupby(by = ['Type of Insurance']).mean().plot(kind = 'pie', \n",
    "                                                   y = '% Pre_Ins',\n",
    "                                                   figsize = (15, 10),\n",
    "                                                   autopct = '%1.1f%%')"
   ]
  },
  {
   "cell_type": "markdown",
   "metadata": {},
   "source": [
    "4 - How many days take between each step"
   ]
  },
  {
   "cell_type": "markdown",
   "metadata": {},
   "source": [
    "Date Created until date.Analise"
   ]
  },
  {
   "cell_type": "code",
   "execution_count": null,
   "metadata": {},
   "outputs": [],
   "source": [
    "seg_up_sucess.columns"
   ]
  },
  {
   "cell_type": "code",
   "execution_count": null,
   "metadata": {},
   "outputs": [],
   "source": [
    "seg_up_sucess.info()"
   ]
  },
  {
   "cell_type": "code",
   "execution_count": null,
   "metadata": {},
   "outputs": [],
   "source": [
    "seg_up_sucess_dates = seg_up_sucess.loc[:, [\"patient_id\", 'date.analise', \n",
    "                                            'date.especialista',\n",
    "                                            'Date.neg']]\n",
    "# seg_up_sucess_A.rename(columns = {'patient_id':'Patient_ID',\n",
    "#                                   'Prémio comercial A':'Premium Insurance',\n",
    "#                                   'Seguro':'Type of Insurance'}, inplace = True)\n",
    "\n",
    "print(seg_up_sucess_dates.info())\n",
    "seg_up_sucess_dates"
   ]
  },
  {
   "cell_type": "code",
   "execution_count": null,
   "metadata": {},
   "outputs": [],
   "source": [
    "len(seg_up_sucess_dates.patient_id.value_counts())"
   ]
  },
  {
   "cell_type": "code",
   "execution_count": null,
   "metadata": {},
   "outputs": [],
   "source": [
    "##### STEP 1 DAYS ######\n",
    "#### date.analise -> date.especialista without fillna() and 3806 rows #### \n",
    "## below i tried to just use the date.epsecialista with values and the result is the same as this one, so NaN works as 0 ####\n",
    "\n",
    "# seg_up_sucess_dates_with_nan = seg_up_sucess_dates[seg_up_sucess_dates['date.especialista'] != 0]\n",
    "\n",
    "# seg_up_sucess_dates_with_nan\n",
    "\n",
    "seg_up_sucess_dates[\"Days from date.analise to date.especialista\"] = seg_up_sucess_dates['date.especialista'] - seg_up_sucess_dates['date.analise']\n",
    "seg_up_sucess_dates[\"Days from date.analise to date.especialista\"] = seg_up_sucess_dates[\"Days from date.analise to date.especialista\"].astype('timedelta64[D]')\n",
    "print('Days from date.analise to date.especialista - MIN:',seg_up_sucess_dates[\"Days from date.analise to date.especialista\"].min())\n",
    "print('Days from date.analise to date.especialista - MAX:',seg_up_sucess_dates[\"Days from date.analise to date.especialista\"].max())\n",
    "print('Days from date.analise to date.especialista - MEAN:',seg_up_sucess_dates[\"Days from date.analise to date.especialista\"].mean())\n",
    "print(len(seg_up_sucess_dates[\"Days from date.analise to date.especialista\"]))\n",
    "print('Days from date.analise to date.especialista - MEAN Wihtout Negatives (-1):',(seg_up_sucess_dates[\"Days from date.analise to date.especialista\"] >=0).mean())\n",
    "# print('Len of the column',len(seg_up_sucess_dates[\"Days from date.analise to date.especialista\"] >=0))\n",
    "\n",
    "######## this was just to understand the mean of the positive days #######\n",
    "only_positive_values_days_step1 = seg_up_sucess_dates[seg_up_sucess_dates[\"Days from date.analise to date.especialista\"] >=0]\n",
    "print('\\n',only_positive_values_days_step1['Days from date.analise to date.especialista'].mean())\n",
    "print(len(only_positive_values_days_step1['Days from date.analise to date.especialista']))\n",
    "############################################################################\n",
    "\n",
    "\n",
    "## plot just to have an idea of the mean and outliers\n",
    "sns.boxplot(x = seg_up_sucess_dates[\"Days from date.analise to date.especialista\"])\n",
    "\n",
    "# seg_up_sucess_dates"
   ]
  },
  {
   "cell_type": "code",
   "execution_count": null,
   "metadata": {},
   "outputs": [],
   "source": [
    "#### date.especialista --> Date.neg without fillna() and 3806 rows ####\n",
    "\n",
    "seg_up_sucess_dates[\"Days from date.especialista to Date.neg\"] = seg_up_sucess_dates['Date.neg'] - seg_up_sucess_dates['date.especialista']\n",
    "seg_up_sucess_dates[\"Days from date.especialista to Date.neg\"] = seg_up_sucess_dates[\"Days from date.especialista to Date.neg\"].astype('timedelta64[D]')\n",
    "print('Days from date.especialista to Date.neg - MIN:',seg_up_sucess_dates[\"Days from date.especialista to Date.neg\"].min())\n",
    "print('Days from date.especialista to Date.neg - MAX:',seg_up_sucess_dates[\"Days from date.especialista to Date.neg\"].max())\n",
    "print('Days from date.especialista to Date.neg - MEAN:',seg_up_sucess_dates[\"Days from date.especialista to Date.neg\"].mean())\n",
    "print(len(seg_up_sucess_dates['Days from date.especialista to Date.neg']))\n",
    "print('Days from date.especialista to Date.neg - MEAN Wihtout Negatives (-1):',(seg_up_sucess_dates[\"Days from date.especialista to Date.neg\"] >=0).mean())\n",
    "\n",
    "\n",
    "######## this was just to understand the mean of the positive days #######\n",
    "only_positive_values_days_step2 = seg_up_sucess_dates[seg_up_sucess_dates[\"Days from date.especialista to Date.neg\"] >=0]\n",
    "print('\\n',only_positive_values_days_step2['Days from date.especialista to Date.neg'].mean())\n",
    "print(len(only_positive_values_days_step2['Days from date.especialista to Date.neg']))\n",
    "# print('Len of the column',len(seg_up_sucess_dates[\"Days from date.especialista to Date.neg\"] >=0))\n",
    "############################################################################\n",
    "\n",
    "## plot just to have an idea of the mean and outliers\n",
    "sns.boxplot(x = seg_up_sucess_dates[\"Days from date.especialista to Date.neg\"])\n",
    "\n",
    "# seg_up_sucess_dates"
   ]
  },
  {
   "cell_type": "code",
   "execution_count": null,
   "metadata": {},
   "outputs": [],
   "source": [
    "#### date.analise --> Date.neg ##### FULL PROCESS\n",
    "\n",
    "seg_up_sucess_dates[\"Days from date.analise to Date.neg\"] = seg_up_sucess_dates['Date.neg'] - seg_up_sucess_dates['date.analise']\n",
    "seg_up_sucess_dates[\"Days from date.analise to Date.neg\"] = seg_up_sucess_dates[\"Days from date.analise to Date.neg\"].astype('timedelta64[D]')\n",
    "print('Days from date.analise to Date.neg - MIN:',seg_up_sucess_dates[\"Days from date.analise to Date.neg\"].min())\n",
    "print('Days from date.analise to Date.neg - MAX:',seg_up_sucess_dates[\"Days from date.analise to Date.neg\"].max())\n",
    "print('Days from date.analise to Date.neg - MEAN:',seg_up_sucess_dates[\"Days from date.analise to Date.neg\"].mean())\n",
    "print(len(seg_up_sucess_dates[\"Days from date.especialista to Date.neg\"]))\n",
    "print('Days from date.analise to Date.neg - MEAN Wihtout Negatives (-1):',(seg_up_sucess_dates[\"Days from date.especialista to Date.neg\"] >=0).mean())\n",
    "\n",
    "\n",
    "######## this was just to understand the mean of the positive days #######\n",
    "only_positive_values_days_full_process = seg_up_sucess_dates[seg_up_sucess_dates[\"Days from date.analise to Date.neg\"] >=0]\n",
    "print('\\n',only_positive_values_days_full_process['Days from date.analise to Date.neg'].mean())\n",
    "print(len(only_positive_values_days_full_process['Days from date.analise to Date.neg']))\n",
    "# print('Len of the column',len(seg_up_sucess_dates[\"Days from date.analise to Date.neg\"] >=0))\n",
    "############################################################################\n",
    "\n",
    "## plot just to have an idea of the mean and outliers\n",
    "sns.boxplot(x = seg_up_sucess_dates[\"Days from date.analise to Date.neg\"])\n",
    "\n",
    "seg_up_sucess_dates"
   ]
  },
  {
   "cell_type": "markdown",
   "metadata": {},
   "source": [
    "Download table to use as steps"
   ]
  },
  {
   "cell_type": "code",
   "execution_count": null,
   "metadata": {},
   "outputs": [],
   "source": [
    "### download of table dates to use in Tableau ###\n",
    "\n",
    "# from openpyxl import load_workbook\n",
    "\n",
    "# seg_up_sucess_dates.to_excel(r'/content/drive/MyDrive/Projects/Project Dr Finanças/SEG/Seguros_Dates_Final.xlsx', index = False)"
   ]
  },
  {
   "cell_type": "markdown",
   "metadata": {},
   "source": [
    "Download table for the Retention Rate"
   ]
  },
  {
   "cell_type": "code",
   "execution_count": null,
   "metadata": {},
   "outputs": [],
   "source": [
    "### download of table for the retention rate to use in Tableau ###\n",
    "\n",
    "# from openpyxl import load_workbook\n",
    "\n",
    "# seg_up_sucess.to_excel(r'/content/drive/MyDrive/Projects/Project Dr Finanças/SEG/Seguros_Retention_Rate.xlsx', index = False)"
   ]
  },
  {
   "cell_type": "markdown",
   "metadata": {},
   "source": [
    "5 - RETENTION RATE"
   ]
  },
  {
   "cell_type": "markdown",
   "metadata": {},
   "source": [
    "Year 2021"
   ]
  },
  {
   "cell_type": "code",
   "execution_count": null,
   "metadata": {},
   "outputs": [],
   "source": [
    "# get all days from 2020 so needs to be < \"01-01-2021\" and not <= \"31-12-2020\" (because doesn't get all days)\n",
    "\n",
    "present_customers_until_end_2020 = seg_up_sucess[seg_up_sucess.created_at < \"01-01-2021\"] \n",
    "\n",
    "print('MIN:', present_customers_until_end_2020.created_at.min()) #confirmation of min() date\n",
    "print('MAX:', present_customers_until_end_2020.created_at.max()) #confirmation of max() date\n",
    "\n",
    "start_of_year_clients = list(present_customers_until_end_2020.patient_id.unique())\n",
    "# start_of_year_clients\n",
    "total_start_year_clients = len(start_of_year_clients)\n",
    "total_start_year_clients"
   ]
  },
  {
   "cell_type": "code",
   "execution_count": null,
   "metadata": {},
   "outputs": [],
   "source": [
    "transactions_in_2021 = seg_up_sucess[seg_up_sucess.created_at > \"01-01-2021\"] # 01 January is bank holiday don't forget ;)\n",
    "\n",
    "print('MIN date of 2021:', transactions_in_2021.created_at.min()) #confirmation of min() date\n",
    "print('MAX date of 2021:', transactions_in_2021.created_at.max()) #confirmation of max() date\n",
    "\n",
    "customers_transactions_in_2021 = list(transactions_in_2021.patient_id.unique())\n",
    "len(customers_transactions_in_2021)"
   ]
  },
  {
   "cell_type": "code",
   "execution_count": null,
   "metadata": {},
   "outputs": [],
   "source": [
    "retention_customers = 0\n",
    "for client in start_of_year_clients:\n",
    "  if client in customers_transactions_in_2021:\n",
    "    retention_customers +=1\n",
    "retention_customers"
   ]
  },
  {
   "cell_type": "code",
   "execution_count": null,
   "metadata": {},
   "outputs": [],
   "source": [
    "retention_rate = round((retention_customers / total_start_year_clients ) * 100, 2)\n",
    "retention_rate"
   ]
  },
  {
   "cell_type": "markdown",
   "metadata": {},
   "source": [
    "Year 2020"
   ]
  },
  {
   "cell_type": "code",
   "execution_count": null,
   "metadata": {},
   "outputs": [],
   "source": [
    "present_customers_until_end_2019 = seg_up_sucess[seg_up_sucess.created_at < \"01-01-2020\"]\n",
    "\n",
    "print('MIN:', present_customers_until_end_2019.created_at.min()) #confirmation of min() date\n",
    "print('MAX:', present_customers_until_end_2019.created_at.max()) #confirmation of max() date\n",
    "start_of_year_clients = list(present_customers_until_end_2019.patient_id.unique())\n",
    "total_start_year_clients = len(start_of_year_clients)\n",
    "total_start_year_clients"
   ]
  },
  {
   "cell_type": "code",
   "execution_count": null,
   "metadata": {},
   "outputs": [],
   "source": [
    "transactions_in_2020 = seg_up_sucess[(seg_up_sucess.created_at > \"01-01-2020\") &\n",
    "                                  (seg_up_sucess.created_at < \"01-01-2021\")]\n",
    "\n",
    "print('MIN date of 2020:', transactions_in_2020.created_at.min()) #confirmation of min() date\n",
    "print('MAX date of 2020:', transactions_in_2020.created_at.max()) #confirmation of max() date\n",
    "customers_transactions_in_2020 = list(transactions_in_2020.patient_id.unique())\n",
    "len(customers_transactions_in_2020)"
   ]
  },
  {
   "cell_type": "code",
   "execution_count": null,
   "metadata": {},
   "outputs": [],
   "source": [
    "retention_customers = 0\n",
    "for client in start_of_year_clients:\n",
    "  if client in customers_transactions_in_2020:\n",
    "    retention_customers +=1\n",
    "retention_customers"
   ]
  },
  {
   "cell_type": "code",
   "execution_count": null,
   "metadata": {},
   "outputs": [],
   "source": [
    "retention_rate = round((retention_customers / total_start_year_clients ) * 100, 2)\n",
    "retention_rate"
   ]
  },
  {
   "cell_type": "markdown",
   "metadata": {},
   "source": [
    "Year 2019"
   ]
  },
  {
   "cell_type": "code",
   "execution_count": null,
   "metadata": {},
   "outputs": [],
   "source": [
    "present_customers_until_end_2018 = seg_up_sucess[seg_up_sucess.created_at < \"01-01-2019\"]\n",
    "print('MIN:', present_customers_until_end_2018.created_at.min()) #confirmation of min() date\n",
    "print('MAX:', present_customers_until_end_2018.created_at.max()) #confirmation of max() date\n",
    "\n",
    "\n",
    "start_of_year_clients = list(present_customers_until_end_2018.patient_id.unique())\n",
    "total_start_year_clients = len(start_of_year_clients)\n",
    "total_start_year_clients"
   ]
  },
  {
   "cell_type": "code",
   "execution_count": null,
   "metadata": {},
   "outputs": [],
   "source": [
    "transactions_in_2019 = seg_up_sucess[(seg_up_sucess.created_at > \"01-01-2019\") &\n",
    "                                  (seg_up_sucess.created_at < \"01-01-2020\")]\n",
    "\n",
    "print('MIN date of 2019:', transactions_in_2019.created_at.min()) #confirmation of min() date\n",
    "print('MAX date of 2019:', transactions_in_2019.created_at.max()) #confirmation of max() date\n",
    "customers_transactions_in_2019 = list(transactions_in_2019.patient_id.unique())\n",
    "len(customers_transactions_in_2019)"
   ]
  },
  {
   "cell_type": "code",
   "execution_count": null,
   "metadata": {},
   "outputs": [],
   "source": [
    "retention_customers = 0\n",
    "for client in start_of_year_clients:\n",
    "  if client in customers_transactions_in_2019:\n",
    "    retention_customers +=1\n",
    "retention_customers"
   ]
  },
  {
   "cell_type": "code",
   "execution_count": null,
   "metadata": {},
   "outputs": [],
   "source": [
    "retention_rate = round((retention_customers / total_start_year_clients ) * 100, 2)\n",
    "retention_rate"
   ]
  },
  {
   "cell_type": "markdown",
   "metadata": {},
   "source": [
    "6 - Same table from step 2 BUT with Seguradoras"
   ]
  },
  {
   "cell_type": "code",
   "execution_count": null,
   "metadata": {},
   "outputs": [],
   "source": [
    "seg_up_sucess.columns"
   ]
  },
  {
   "cell_type": "code",
   "execution_count": null,
   "metadata": {},
   "outputs": [],
   "source": [
    "seg_up_sucess_seguradora_A = seg_up_sucess.loc[:, [\"patient_id\", \"Prémio comercial A\", \"Seguro\", 'Seguradora']]\n",
    "seg_up_sucess_seguradora_A.rename(columns = {'patient_id':'Patient_ID',\n",
    "                                  'Prémio comercial A':'Premium Insurance',\n",
    "                                  'Seguro':'Type of Insurance'}, inplace = True)\n",
    "seg_up_sucess_seguradora_A\n",
    "\n",
    "### remove NaN from 'Premium Insurance' ###\n",
    "\n",
    "seg_up_sucess_seguradora_A.dropna(subset = ['Premium Insurance'],  inplace = True)\n",
    "seg_up_sucess_seguradora_A"
   ]
  },
  {
   "cell_type": "code",
   "execution_count": null,
   "metadata": {},
   "outputs": [],
   "source": [
    "seg_up_sucess_seguradora_B = seg_up_sucess.loc[:, [\"patient_id\", \"Prémio comercial B\", \"Seguro.B\", 'Seguradora.B']]\n",
    "seg_up_sucess_seguradora_B.rename(columns = {'patient_id':'Patient_ID',\n",
    "                                  'Prémio comercial B':'Premium Insurance',\n",
    "                                  'Seguro.B':'Type of Insurance', \n",
    "                                  'Seguradora.B':'Seguradora'}, inplace = True)\n",
    "seg_up_sucess_seguradora_B.info()\n",
    "\n",
    "### remove NaN from 'Premium Insurance' ###\n",
    "\n",
    "seg_up_sucess_seguradora_B.dropna(subset = ['Premium Insurance'],  inplace = True)\n",
    "seg_up_sucess_seguradora_B"
   ]
  },
  {
   "cell_type": "code",
   "execution_count": null,
   "metadata": {},
   "outputs": [],
   "source": [
    "# seg_up_sucess.head()\n",
    "\n",
    "seg_up_sucess_seguradora_C = seg_up_sucess.loc[:, [\"patient_id\", \"Prémio comercial C\", \"Seguros.C\", 'Seguradoras.C']]\n",
    "seg_up_sucess_seguradora_C.rename(columns = {'patient_id':'Patient_ID',\n",
    "                                  'Prémio comercial C':'Premium Insurance',\n",
    "                                  'Seguros.C':'Type of Insurance',\n",
    "                                  'Seguradoras.C':'Seguradora'}, inplace = True)\n",
    "seg_up_sucess_seguradora_C.info()\n",
    "\n",
    "### remove NaN from 'Premium Insurance' ###\n",
    "\n",
    "seg_up_sucess_seguradora_C.dropna(subset = ['Premium Insurance'],  inplace = True)\n",
    "seg_up_sucess_seguradora_C"
   ]
  },
  {
   "cell_type": "code",
   "execution_count": null,
   "metadata": {},
   "outputs": [],
   "source": [
    "### concatenate all 3 tables and then will check for duplicates\n",
    "\n",
    "seg_up_sucess_total_seguradoras = pd.concat([seg_up_sucess_seguradora_A, seg_up_sucess_seguradora_B, seg_up_sucess_seguradora_C])\n",
    "print(seg_up_sucess_total_seguradoras['Type of Insurance'].value_counts(),'\\n')\n",
    "seg_up_sucess_total_seguradoras"
   ]
  },
  {
   "cell_type": "code",
   "execution_count": null,
   "metadata": {},
   "outputs": [],
   "source": [
    "seg_up_sucess_total_seguradoras['Patient_ID'].value_counts()"
   ]
  },
  {
   "cell_type": "markdown",
   "metadata": {},
   "source": [
    "Download of table to see type of insurance and name of insurance"
   ]
  },
  {
   "cell_type": "code",
   "execution_count": null,
   "metadata": {},
   "outputs": [],
   "source": [
    "### save file for Excel ####\n",
    "\n",
    "# from openpyxl import load_workbook\n",
    "\n",
    "# seg_up_sucess_total_seguradoras.to_excel(r'/content/drive/MyDrive/Projects/Project Dr Finanças/SEG\\Seguros_Final.xlsx', index = False)"
   ]
  },
  {
   "cell_type": "code",
   "execution_count": null,
   "metadata": {},
   "outputs": [],
   "source": [
    "########## Final table to answer Scope ##########\n",
    "\n",
    "### groupby().unique() -> 3639 patient_id\n",
    "\n",
    "seg_up_sucess_total_seguradoras_final = seg_up_sucess_total_seguradoras.groupby(['Type of Insurance', 'Seguradora'],\n",
    "                                                        as_index = False).agg({'Patient_ID':'nunique',\n",
    "                                                                               'Premium Insurance': 'sum'})\n",
    "print('Total of Patients: ',sum(seg_up_sucess_total_seguradoras_final['Patient_ID']),'\\n')\n",
    "print('Total Amount of Premium Insurance: ',round(sum(seg_up_sucess_total_seguradoras_final['Premium Insurance']), 2),'\\n')\n",
    "seg_up_sucess_total_seguradoras_final"
   ]
  },
  {
   "cell_type": "code",
   "execution_count": null,
   "metadata": {},
   "outputs": [],
   "source": [
    "fig, ax = plt.subplots(figsize= (10,8))\n",
    "\n",
    "ax = sns.barplot(x=\"Type of Insurance\",\n",
    "                 y=\"Patient_ID\",\n",
    "                 hue=\"Seguradora\",\n",
    "                 data=seg_up_sucess_total_seguradoras_final)\n",
    "\n",
    "ax.set_xticklabels(ax.get_xticklabels(),rotation = 90)\n",
    "\n",
    "ax"
   ]
  },
  {
   "cell_type": "code",
   "execution_count": null,
   "metadata": {},
   "outputs": [],
   "source": [
    "seg_up_sucess_total_seguradoras_final.Seguradora.values"
   ]
  },
  {
   "cell_type": "code",
   "execution_count": null,
   "metadata": {},
   "outputs": [],
   "source": [
    "# fig, ax = plt.subplots(figsize= (20,15))\n",
    "\n",
    "from matplotlib import rcParams\n",
    "\n",
    "rcParams['figure.figsize'] = 12,8\n",
    "\n",
    "g = sns.catplot(x=\"Seguradora\", y=\"Patient_ID\", col=\"Type of Insurance\",\n",
    "                data=seg_up_sucess_total_seguradoras_final,\n",
    "            kind=\"bar\", col_wrap = 4)\n",
    "(g.set_axis_labels(\"\", \"Total Patient\")\n",
    "  .set_xticklabels([\"Allianz\", \"Fidelidade\", \"Liberty\",\n",
    "                    'Mafre', 'Tranquilidade', 'Zurich',\n",
    "                    'Ageas', 'Vitoria', 'Real Vida', 'Saude Prime',\n",
    "                    'April', 'Metlife', 'Prevoir'], rotation = 90)\n",
    "  .set_titles(\"{col_name}\")\n",
    "  .despine(left=True)) \n",
    "\n",
    "plt.show()"
   ]
  },
  {
   "cell_type": "markdown",
   "metadata": {},
   "source": [
    "7 - Customer Lifetime Value"
   ]
  },
  {
   "cell_type": "code",
   "execution_count": null,
   "metadata": {},
   "outputs": [],
   "source": [
    "seg_up_sucess_total.info()"
   ]
  },
  {
   "cell_type": "code",
   "execution_count": null,
   "metadata": {},
   "outputs": [],
   "source": [
    "seg_up_sucess_total.describe()"
   ]
  },
  {
   "cell_type": "code",
   "execution_count": null,
   "metadata": {},
   "outputs": [],
   "source": [
    "seg_up_sucess_total['Patient_ID'].value_counts()"
   ]
  },
  {
   "cell_type": "code",
   "execution_count": null,
   "metadata": {},
   "outputs": [],
   "source": [
    "seg_up_sucess_total['Premium Insurance'].value_counts()"
   ]
  },
  {
   "cell_type": "code",
   "execution_count": null,
   "metadata": {},
   "outputs": [],
   "source": [
    "seg_up_sucess_total"
   ]
  },
  {
   "cell_type": "code",
   "execution_count": null,
   "metadata": {},
   "outputs": [],
   "source": [
    "seg_up_sucess_total_CLV = seg_up_sucess_total.groupby(['Patient_ID']).agg({'Premium Insurance':'sum'}).reset_index()\n",
    "seg_up_sucess_total_CLV"
   ]
  },
  {
   "cell_type": "markdown",
   "metadata": {},
   "source": [
    "Set the CLV Scores"
   ]
  },
  {
   "cell_type": "code",
   "execution_count": null,
   "metadata": {},
   "outputs": [],
   "source": [
    "clv_seg_1 = seg_up_sucess_total_CLV[seg_up_sucess_total_CLV['Premium Insurance'] < 75]\n",
    "\n",
    "print(clv_seg_1.count())\n",
    "print('Min Score 1:', clv_seg_1['Premium Insurance'].min())\n",
    "print('Max Score 1:', clv_seg_1['Premium Insurance'].max())\n",
    "print('Avg Score 1:', clv_seg_1['Premium Insurance'].mean())"
   ]
  },
  {
   "cell_type": "code",
   "execution_count": null,
   "metadata": {},
   "outputs": [],
   "source": [
    "clv_seg_2 = seg_up_sucess_total_CLV[(seg_up_sucess_total_CLV['Premium Insurance'] > 75) &\n",
    "                           (seg_up_sucess_total_CLV['Premium Insurance'] < 150)]  # before between 125 and 1250 - 2944pid \n",
    "\n",
    "print(clv_seg_2.count())\n",
    "print('Min Score 2:', clv_seg_2['Premium Insurance'].min())\n",
    "print('Max Score 2:', clv_seg_2['Premium Insurance'].max())\n",
    "print('Avg Score 2:', clv_seg_2['Premium Insurance'].mean())"
   ]
  },
  {
   "cell_type": "code",
   "execution_count": null,
   "metadata": {},
   "outputs": [],
   "source": [
    "clv_seg_3 = seg_up_sucess_total_CLV[(seg_up_sucess_total_CLV['Premium Insurance'] > 150) &\n",
    "                           (seg_up_sucess_total_CLV['Premium Insurance'] < 500)]  # before between 1250 and 2500 - 72pid \n",
    "\n",
    "print(clv_seg_3.count())\n",
    "print('Min Score 3:', clv_seg_3['Premium Insurance'].min())\n",
    "print('Max Score 3:', clv_seg_3['Premium Insurance'].max())\n",
    "print('Avg Score 3:', clv_seg_3['Premium Insurance'].mean())"
   ]
  },
  {
   "cell_type": "code",
   "execution_count": null,
   "metadata": {},
   "outputs": [],
   "source": [
    "clv_seg_4 = seg_up_sucess_total_CLV[(seg_up_sucess_total_CLV['Premium Insurance'] > 500) &\n",
    "                           (seg_up_sucess_total_CLV['Premium Insurance'] < 1000)]\n",
    "\n",
    "print(clv_seg_4.count())\n",
    "print('Min Score 4:', clv_seg_4['Premium Insurance'].min())\n",
    "print('Max Score 4:', clv_seg_4['Premium Insurance'].max())\n",
    "print('Avg Score 4:', clv_seg_4['Premium Insurance'].mean())"
   ]
  },
  {
   "cell_type": "code",
   "execution_count": null,
   "metadata": {},
   "outputs": [],
   "source": [
    "clv_seg_5 = seg_up_sucess_total_CLV[(seg_up_sucess_total_CLV['Premium Insurance'] > 1000)]\n",
    "                                \n",
    "print(clv_seg_5.count())\n",
    "print('Min Score 5:', clv_seg_5['Premium Insurance'].min())\n",
    "print('Max Score 5:', clv_seg_5['Premium Insurance'].max())\n",
    "print('Avg Score 5:', clv_seg_5['Premium Insurance'].mean())"
   ]
  },
  {
   "cell_type": "markdown",
   "metadata": {},
   "source": [
    "Def function to add scores on table"
   ]
  },
  {
   "cell_type": "code",
   "execution_count": null,
   "metadata": {},
   "outputs": [],
   "source": [
    "def score_clv(x):\n",
    "  if x < 75:\n",
    "    return 1\n",
    "  elif x >= 75 and x < 150:\n",
    "    return 2\n",
    "  elif x >= 150 and x < 500:\n",
    "    return 3\n",
    "  elif x >= 500 and x < 1000:\n",
    "    return 4\n",
    "  else:\n",
    "    return 5\n",
    "\n",
    "seg_up_sucess_total_CLV['CLV Score'] = seg_up_sucess_total_CLV['Premium Insurance'].apply(score_clv)"
   ]
  },
  {
   "cell_type": "code",
   "execution_count": null,
   "metadata": {},
   "outputs": [],
   "source": [
    "seg_up_sucess_total_CLV"
   ]
  },
  {
   "cell_type": "code",
   "execution_count": null,
   "metadata": {},
   "outputs": [],
   "source": [
    "seg_up_sucess_total_CLV['CLV Score'].value_counts()"
   ]
  },
  {
   "cell_type": "markdown",
   "metadata": {},
   "source": [
    "Download table with CLV scores to use on Tableau"
   ]
  },
  {
   "cell_type": "code",
   "execution_count": null,
   "metadata": {},
   "outputs": [],
   "source": [
    "### save file for Excel ####\n",
    "\n",
    "# from openpyxl import load_workbook\n",
    "\n",
    "# seg_up_sucess_total_CLV.to_excel(r'/content/drive/MyDrive/Projects/Project Dr Finanças/SEG/Seguros_Final_CLV_Scores.xlsx', index = False)"
   ]
  }
 ],
 "metadata": {
  "interpreter": {
   "hash": "dcacb0086e9a4f4eabd41c33bf4faac5ea0a3337ed3f5eff0680afa930572c04"
  },
  "kernelspec": {
   "display_name": "Python 3.9.7 64-bit",
   "language": "python",
   "name": "python3"
  },
  "language_info": {
   "codemirror_mode": {
    "name": "ipython",
    "version": 3
   },
   "file_extension": ".py",
   "mimetype": "text/x-python",
   "name": "python",
   "nbconvert_exporter": "python",
   "pygments_lexer": "ipython3",
   "version": "3.9.7"
  },
  "orig_nbformat": 4
 },
 "nbformat": 4,
 "nbformat_minor": 2
}
